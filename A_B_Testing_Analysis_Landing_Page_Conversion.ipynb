{
  "nbformat": 4,
  "nbformat_minor": 0,
  "metadata": {
    "colab": {
      "provenance": [],
      "authorship_tag": "ABX9TyPP5joMZEG2vZMlsd1cchGE",
      "include_colab_link": true
    },
    "kernelspec": {
      "name": "python3",
      "display_name": "Python 3"
    },
    "language_info": {
      "name": "python"
    }
  },
  "cells": [
    {
      "cell_type": "markdown",
      "metadata": {
        "id": "view-in-github",
        "colab_type": "text"
      },
      "source": [
        "<a href=\"https://colab.research.google.com/github/Rudrajit12/ecommerce-ab-test-case-study/blob/main/A_B_Testing_Analysis_Landing_Page_Conversion.ipynb\" target=\"_parent\"><img src=\"https://colab.research.google.com/assets/colab-badge.svg\" alt=\"Open In Colab\"/></a>"
      ]
    },
    {
      "cell_type": "markdown",
      "source": [
        "# **Evaluating the Impact of a New Landing Page on User Conversion Rates: An A/B Testing Analysis for an E-Commerce Platform**"
      ],
      "metadata": {
        "id": "hqVf82p6g37Q"
      }
    },
    {
      "cell_type": "markdown",
      "source": [
        "## **🧾 Problem Statement**\n",
        "\n",
        "An e-commerce company recently launched a redesigned version of its website landing page, aiming to increase the number of users converting to paid customers. To assess the effectiveness of this change, an A/B test was conducted where users were randomly shown either the current version (control group) or the new version (treatment group) of the landing page.\n",
        "\n",
        "The company now seeks a data-driven evaluation to determine whether the new page results in a significant improvement in conversion rates and whether it should be adopted more broadly.\n",
        "\n",
        "---"
      ],
      "metadata": {
        "id": "BjqI6013g_hH"
      }
    },
    {
      "cell_type": "markdown",
      "source": [
        "## **💼 Business Objective:**\n",
        "\n",
        "1. Increase Paid User Conversions\n",
        "\n",
        "  - Primary Objective: Evaluate if the new landing page increases the percentage of visitors who sign up for the paid product.\n",
        "\n",
        "  - Why It Matters: Higher conversion rates directly translate to more revenue and improved ROI on marketing efforts.\n",
        "\n",
        "---"
      ],
      "metadata": {
        "id": "bop-Plhbh_Qx"
      }
    },
    {
      "cell_type": "markdown",
      "source": [
        "### **✅ Step 1: Understanding the Experiment Design**\n",
        "\n",
        "Let's explicitly define the key components of this A/B test."
      ],
      "metadata": {
        "id": "VyIcgZRoj5zo"
      }
    },
    {
      "cell_type": "markdown",
      "source": [
        "#### **🧪 Experiment Design Overview**\n",
        "\n",
        "* **Test Objective:**\n",
        "\n",
        "  Evaluate whether the new landing page (treatment) improves conversion rates compared to the current landing page (control).\n",
        "\n",
        "* **Experiment Type:**\n",
        "\n",
        "  Between-subjects randomized controlled A/B test"
      ],
      "metadata": {
        "id": "3R9A2xhwj_xH"
      }
    },
    {
      "cell_type": "markdown",
      "source": [
        "| Group         | Description                              |\n",
        "| ------------- | ---------------------------------------- |\n",
        "| **Control**   | Users shown the **current** landing page |\n",
        "| **Treatment** | Users shown the **new** landing page     |\n"
      ],
      "metadata": {
        "id": "n1DsvlEjkHM-"
      }
    },
    {
      "cell_type": "markdown",
      "source": [
        "#### **🎯 Primary Metric**\n",
        "\n",
        "* **Conversion Rate**\n",
        "    \n",
        "      = {Num of users who converted} / {Num of users who viewed the page}\n",
        "\n",
        "* Binary Outcome:\n",
        "\n",
        "  1 → Converted (signed up for paid product)\n",
        "\n",
        "  0 → Did not convert\n",
        "\n",
        "---"
      ],
      "metadata": {
        "id": "0vG0MaJFkWRX"
      }
    },
    {
      "cell_type": "markdown",
      "source": [
        "#### **📊 Hypotheses**\n",
        "\n",
        "* **Null Hypothesis (H₀):**\n",
        "\n",
        "      Conversion_control = Conversion_treatment\n",
        "\n",
        "  There is **no difference** in conversion rates between the two pages.\n",
        "\n",
        "---\n",
        "\n",
        "* **Alternative Hypothesis (H₁):**\n",
        "\n",
        "      Conversion_control != Conversion_treatment\n",
        "\n",
        "  There **is a difference** (positive or negative) in conversion rates.\n",
        "\n",
        "---"
      ],
      "metadata": {
        "id": "KeOWgqxRk6LH"
      }
    },
    {
      "cell_type": "markdown",
      "source": [
        "### **✅ Step 2: Data Loading**\n",
        "\n",
        "**📥 What It Does:**\n",
        "\n",
        "In this step, we import the A/B test datasets into the analysis environment (e.g., pandas DataFrames in Python) so we can work with them.\n",
        "\n",
        "This includes:\n",
        "\n",
        "- Reading CSV files (like ab_test.csv and countries_ab.csv)\n",
        "\n",
        "- Verifying that the data was loaded successfully\n",
        "\n",
        "- Reviewing the structure (rows, columns, column names)"
      ],
      "metadata": {
        "id": "yf5sCoRemPMI"
      }
    },
    {
      "cell_type": "code",
      "source": [
        "# Loading and importing the necessary libraries\n",
        "import pandas as pd\n",
        "import numpy as np\n",
        "import matplotlib.pyplot as plt\n",
        "%matplotlib inline\n",
        "import seaborn as sns\n",
        "\n",
        "import warnings\n",
        "warnings.filterwarnings('ignore')\n",
        "\n",
        "plt.rcParams['figure.figsize'] = [10,6]\n",
        "sns.set(rc={'figure.figsize':(10,6)})"
      ],
      "metadata": {
        "id": "C80PUqWbmkHH"
      },
      "execution_count": 40,
      "outputs": []
    },
    {
      "cell_type": "code",
      "source": [
        "# Mount the drive\n",
        "from google.colab import drive\n",
        "drive.mount('/content/drive/')"
      ],
      "metadata": {
        "colab": {
          "base_uri": "https://localhost:8080/"
        },
        "id": "w_jv0YI3mnD_",
        "outputId": "7656177a-fa6c-499a-a405-f84e7958b68e"
      },
      "execution_count": 2,
      "outputs": [
        {
          "output_type": "stream",
          "name": "stdout",
          "text": [
            "Mounted at /content/drive/\n"
          ]
        }
      ]
    },
    {
      "cell_type": "code",
      "execution_count": 41,
      "metadata": {
        "colab": {
          "base_uri": "https://localhost:8080/"
        },
        "id": "e8gHqY-qgYZp",
        "outputId": "3df50fd0-3a9c-4744-fb76-ef0c934cc4b8"
      },
      "outputs": [
        {
          "output_type": "stream",
          "name": "stdout",
          "text": [
            "AB Test Dataset:\n",
            "       id     time  con_treat      page  converted\n",
            "0  851104  11:48.6    control  old_page          0\n",
            "1  804228  01:45.2    control  old_page          0\n",
            "2  661590  55:06.2  treatment  new_page          0\n",
            "3  853541  28:03.1  treatment  new_page          0\n",
            "4  864975  52:26.2    control  old_page          1\n",
            "\n",
            "Countries Dataset:\n",
            "       id country\n",
            "0  834778      UK\n",
            "1  928468      US\n",
            "2  822059      UK\n",
            "3  711597      UK\n",
            "4  710616      UK\n"
          ]
        }
      ],
      "source": [
        "# Load the main A/B test dataset\n",
        "ab_test = pd.read_csv('/content/drive/MyDrive/EDA Projects/A-B Test Analysis E-Commerce Landing Page/ab_test.csv')\n",
        "\n",
        "# Load the countries dataset\n",
        "countries = pd.read_csv('/content/drive/MyDrive/EDA Projects/A-B Test Analysis E-Commerce Landing Page/countries_ab.csv')\n",
        "\n",
        "# Preview the first few rows of each dataset\n",
        "print(\"AB Test Dataset:\")\n",
        "print(ab_test.head())\n",
        "\n",
        "print(\"\\nCountries Dataset:\")\n",
        "print(countries.head())"
      ]
    },
    {
      "cell_type": "code",
      "source": [
        "# Merge the two datasets on 'id'\n",
        "merged_df = ab_test.merge(countries, on='id', how='left')\n",
        "\n",
        "# Preview the merged dataset\n",
        "print(\"Merged Dataset:\")\n",
        "print(merged_df.head())\n",
        "\n",
        "# Check the shape to ensure merge success\n",
        "print(f\"\\nShape of merged dataset: {merged_df.shape}\")"
      ],
      "metadata": {
        "colab": {
          "base_uri": "https://localhost:8080/"
        },
        "id": "JvgtA4cfnnvR",
        "outputId": "0931f32a-86e2-4bfe-fe69-a6752c90df3c"
      },
      "execution_count": 42,
      "outputs": [
        {
          "output_type": "stream",
          "name": "stdout",
          "text": [
            "Merged Dataset:\n",
            "       id     time  con_treat      page  converted country\n",
            "0  851104  11:48.6    control  old_page          0      US\n",
            "1  804228  01:45.2    control  old_page          0      US\n",
            "2  661590  55:06.2  treatment  new_page          0      US\n",
            "3  853541  28:03.1  treatment  new_page          0      US\n",
            "4  864975  52:26.2    control  old_page          1      US\n",
            "\n",
            "Shape of merged dataset: (294478, 6)\n"
          ]
        }
      ]
    },
    {
      "cell_type": "code",
      "source": [
        "# View column names and data types\n",
        "merged_df.info()"
      ],
      "metadata": {
        "colab": {
          "base_uri": "https://localhost:8080/"
        },
        "id": "beW7TKruIcrk",
        "outputId": "6d982aef-bd28-4182-fa20-db2f612f5452"
      },
      "execution_count": 43,
      "outputs": [
        {
          "output_type": "stream",
          "name": "stdout",
          "text": [
            "<class 'pandas.core.frame.DataFrame'>\n",
            "RangeIndex: 294478 entries, 0 to 294477\n",
            "Data columns (total 6 columns):\n",
            " #   Column     Non-Null Count   Dtype \n",
            "---  ------     --------------   ----- \n",
            " 0   id         294478 non-null  int64 \n",
            " 1   time       294478 non-null  object\n",
            " 2   con_treat  294478 non-null  object\n",
            " 3   page       294478 non-null  object\n",
            " 4   converted  294478 non-null  int64 \n",
            " 5   country    294478 non-null  object\n",
            "dtypes: int64(2), object(4)\n",
            "memory usage: 13.5+ MB\n"
          ]
        }
      ]
    },
    {
      "cell_type": "code",
      "source": [
        "# Rename columns\n",
        "merged_df = merged_df.rename(columns={\n",
        "    'con_treat': 'group',\n",
        "    'page': 'landing_page'\n",
        "})\n",
        "\n",
        "# Confirm the changes\n",
        "print(\"Updated column names:\", merged_df.columns.tolist())"
      ],
      "metadata": {
        "colab": {
          "base_uri": "https://localhost:8080/"
        },
        "id": "2BiYB3TFOs8n",
        "outputId": "27858209-c122-4964-82ea-fc5d55bde7b7"
      },
      "execution_count": 44,
      "outputs": [
        {
          "output_type": "stream",
          "name": "stdout",
          "text": [
            "Updated column names: ['id', 'time', 'group', 'landing_page', 'converted', 'country']\n"
          ]
        }
      ]
    },
    {
      "cell_type": "markdown",
      "source": [
        "### **✅ Step 3: Data Cleaning & Validation**\n",
        "\n",
        "We'll now verify the integrity and structure of the merged dataset. Here are the key checks:"
      ],
      "metadata": {
        "id": "sXTUrv1_pAMK"
      }
    },
    {
      "cell_type": "markdown",
      "source": [
        "**🔍 3.1 Check for Duplicates (especially duplicate user_id)**"
      ],
      "metadata": {
        "id": "0L4gp1wVpGWo"
      }
    },
    {
      "cell_type": "code",
      "source": [
        "# Check for duplicate user_ids\n",
        "duplicate_users = merged_df[merged_df.duplicated(subset='id', keep=False)]\n",
        "print(f\"Number of duplicate user_ids: {duplicate_users.shape[0]}\")"
      ],
      "metadata": {
        "colab": {
          "base_uri": "https://localhost:8080/"
        },
        "id": "1vvfKahJoqpE",
        "outputId": "df9909d6-a6bb-4073-fdec-bcf966e02308"
      },
      "execution_count": 45,
      "outputs": [
        {
          "output_type": "stream",
          "name": "stdout",
          "text": [
            "Number of duplicate user_ids: 7788\n"
          ]
        }
      ]
    },
    {
      "cell_type": "markdown",
      "source": [
        "**🎯 Drop duplicates and keep only the first occurrence per user:**"
      ],
      "metadata": {
        "id": "p274lg0eqfmx"
      }
    },
    {
      "cell_type": "code",
      "source": [
        "# Drop duplicate user_ids, keeping the first occurrence\n",
        "merged_df = merged_df.drop_duplicates(subset='id', keep='first')\n",
        "\n",
        "# Confirm duplicates are removed\n",
        "print(f\"Remaining duplicates: {merged_df.duplicated(subset='id').sum()}\")"
      ],
      "metadata": {
        "colab": {
          "base_uri": "https://localhost:8080/"
        },
        "id": "S-AE84Qyqhgo",
        "outputId": "cacfacf5-b358-47f3-f9b3-e06c3b610212"
      },
      "execution_count": 46,
      "outputs": [
        {
          "output_type": "stream",
          "name": "stdout",
          "text": [
            "Remaining duplicates: 0\n"
          ]
        }
      ]
    },
    {
      "cell_type": "markdown",
      "source": [
        "This ensures that:\n",
        "\n",
        "* Every user is treated as a unique experiment unit.\n",
        "\n",
        "* The sample remains clean and statistically valid."
      ],
      "metadata": {
        "id": "0PCKojwlqmxY"
      }
    },
    {
      "cell_type": "markdown",
      "source": [
        "**🔍 3.2 Check for Null or Missing Values**"
      ],
      "metadata": {
        "id": "TZs1HvHepPGg"
      }
    },
    {
      "cell_type": "code",
      "source": [
        "# Check for missing values\n",
        "missing_values = merged_df.isnull().sum()\n",
        "print(\"Missing values in each column:\\n\", missing_values)"
      ],
      "metadata": {
        "colab": {
          "base_uri": "https://localhost:8080/"
        },
        "id": "P4wnX_kppI5o",
        "outputId": "f43b2b55-41d3-4da9-992f-df1d0f01d97a"
      },
      "execution_count": 47,
      "outputs": [
        {
          "output_type": "stream",
          "name": "stdout",
          "text": [
            "Missing values in each column:\n",
            " id              0\n",
            "time            0\n",
            "group           0\n",
            "landing_page    0\n",
            "converted       0\n",
            "country         0\n",
            "dtype: int64\n"
          ]
        }
      ]
    },
    {
      "cell_type": "markdown",
      "source": [
        "**🔍 3.3 Check Group Assignment Consistency**"
      ],
      "metadata": {
        "id": "A6-GwMizpVKg"
      }
    },
    {
      "cell_type": "code",
      "source": [
        "# Unique values in 'group' column\n",
        "print(\"Unique groups:\", merged_df['group'].unique())\n",
        "\n",
        "# Cross-check landing_page assignment if applicable\n",
        "if 'landing_page' in merged_df.columns:\n",
        "    cross_tab = pd.crosstab(merged_df['group'], merged_df['landing_page'])\n",
        "    print(\"\\nGroup vs Landing Page mapping:\\n\", cross_tab)"
      ],
      "metadata": {
        "colab": {
          "base_uri": "https://localhost:8080/"
        },
        "id": "W4-hyosIpRUl",
        "outputId": "570e62e1-81b1-4981-87b8-fff52e726a96"
      },
      "execution_count": 48,
      "outputs": [
        {
          "output_type": "stream",
          "name": "stdout",
          "text": [
            "Unique groups: ['control' 'treatment']\n",
            "\n",
            "Group vs Landing Page mapping:\n",
            " landing_page  new_page  old_page\n",
            "group                           \n",
            "control           1006    144226\n",
            "treatment       144314      1038\n"
          ]
        }
      ]
    },
    {
      "cell_type": "markdown",
      "source": [
        "**🔄 Ensure Correct Group-to-Page Mapping**\n",
        "\n",
        "To maintain the integrity of the experiment, we verify that each group is assigned the correct landing page:\n",
        "\n",
        "- Control group should always see the old page\n",
        "\n",
        "- Treatment group should always see the new page\n",
        "\n",
        "This check prevents incorrect mappings that could invalidate the A/B test results."
      ],
      "metadata": {
        "id": "3r7VOFI5qOPp"
      }
    },
    {
      "cell_type": "code",
      "source": [
        "# Keep only rows where group and landing_page match\n",
        "merged_df = merged_df[\n",
        "    ((merged_df['group'] == 'control') & (merged_df['landing_page'] == 'old_page')) |\n",
        "    ((merged_df['group'] == 'treatment') & (merged_df['landing_page'] == 'new_page'))\n",
        "]"
      ],
      "metadata": {
        "id": "-BWLHXxUqOyh"
      },
      "execution_count": 49,
      "outputs": []
    },
    {
      "cell_type": "code",
      "source": [
        "# Cross-check page assignment if applicable\n",
        "if 'landing_page' in merged_df.columns:\n",
        "    cross_tab = pd.crosstab(merged_df['group'], merged_df['landing_page'])\n",
        "    print(\"\\nGroup vs Landing Page mapping:\\n\", cross_tab)"
      ],
      "metadata": {
        "colab": {
          "base_uri": "https://localhost:8080/"
        },
        "id": "JunTMg5jq0WR",
        "outputId": "d6b1a75b-7d87-4440-8a99-490867a38e0f"
      },
      "execution_count": 50,
      "outputs": [
        {
          "output_type": "stream",
          "name": "stdout",
          "text": [
            "\n",
            "Group vs Landing Page mapping:\n",
            " landing_page  new_page  old_page\n",
            "group                           \n",
            "control              0    144226\n",
            "treatment       144314         0\n"
          ]
        }
      ]
    },
    {
      "cell_type": "markdown",
      "source": [
        "**🔍 3.4 Check Conversion Values Validity**"
      ],
      "metadata": {
        "id": "X0B-3a59pos4"
      }
    },
    {
      "cell_type": "code",
      "source": [
        "# Check unique values in 'converted' column\n",
        "print(\"Unique values in 'converted':\", merged_df['converted'].unique())"
      ],
      "metadata": {
        "colab": {
          "base_uri": "https://localhost:8080/"
        },
        "id": "uI1pNwyqpXl3",
        "outputId": "4f83d8df-1590-4b98-acac-7aec79fc9b62"
      },
      "execution_count": 51,
      "outputs": [
        {
          "output_type": "stream",
          "name": "stdout",
          "text": [
            "Unique values in 'converted': [0 1]\n"
          ]
        }
      ]
    },
    {
      "cell_type": "markdown",
      "source": [
        "### **✅ Step 4: Exploratory Data Analysis (EDA)**\n",
        "\n",
        "**📊 What It Does:**\n",
        "\n",
        "In this step, we explore and summarize the dataset to understand patterns, relationships, and potential issues before performing any statistical testing.\n",
        "\n",
        "Key tasks include:\n",
        "\n",
        "- Calculating conversion rates for each group (control vs. treatment)\n",
        "\n",
        "- Checking sample sizes and balance between groups\n",
        "\n",
        "- Looking at the distribution of conversions\n",
        "\n",
        "- Creating visualizations (bar plots, histograms) for clarity"
      ],
      "metadata": {
        "id": "yMv5Ey_nKfcF"
      }
    },
    {
      "cell_type": "markdown",
      "source": [
        "**4.1 Basic Summary Statistics**"
      ],
      "metadata": {
        "id": "_ujlR8paKikG"
      }
    },
    {
      "cell_type": "code",
      "source": [
        "# Summary of numeric columns\n",
        "print(merged_df.describe(include='all'))"
      ],
      "metadata": {
        "colab": {
          "base_uri": "https://localhost:8080/"
        },
        "id": "ZKv1mOBEpsK5",
        "outputId": "8d693f59-b3a8-4da8-8aa3-a6b1cab36be9"
      },
      "execution_count": 52,
      "outputs": [
        {
          "output_type": "stream",
          "name": "stdout",
          "text": [
            "                   id     time      group landing_page      converted country\n",
            "count   288540.000000   288540     288540       288540  288540.000000  288540\n",
            "unique            NaN    35991          2            2            NaN       3\n",
            "top               NaN  53:18.9  treatment     new_page            NaN      US\n",
            "freq              NaN       21     144314       144314            NaN  202185\n",
            "mean    788029.850724      NaN        NaN          NaN       0.119509     NaN\n",
            "std      91225.822546      NaN        NaN          NaN       0.324387     NaN\n",
            "min     630000.000000      NaN        NaN          NaN       0.000000     NaN\n",
            "25%     709051.750000      NaN        NaN          NaN       0.000000     NaN\n",
            "50%     788048.500000      NaN        NaN          NaN       0.000000     NaN\n",
            "75%     866973.500000      NaN        NaN          NaN       0.000000     NaN\n",
            "max     945999.000000      NaN        NaN          NaN       1.000000     NaN\n"
          ]
        }
      ]
    },
    {
      "cell_type": "markdown",
      "source": [
        "**4.2 Sample Size Per Group**"
      ],
      "metadata": {
        "id": "pt5rCLUlKsxX"
      }
    },
    {
      "cell_type": "code",
      "source": [
        "# count of each group\n",
        "group_counts = merged_df['group'].value_counts()\n",
        "print(\"Number of users in each group:\\n\", group_counts)"
      ],
      "metadata": {
        "colab": {
          "base_uri": "https://localhost:8080/"
        },
        "id": "ojab5XbsKkfH",
        "outputId": "4c51c8fd-7245-4d58-add5-a85933f4a102"
      },
      "execution_count": 53,
      "outputs": [
        {
          "output_type": "stream",
          "name": "stdout",
          "text": [
            "Number of users in each group:\n",
            " group\n",
            "treatment    144314\n",
            "control      144226\n",
            "Name: count, dtype: int64\n"
          ]
        }
      ]
    },
    {
      "cell_type": "markdown",
      "source": [
        "**4.3 Conversion Rate per Group**"
      ],
      "metadata": {
        "id": "Z2J5IE-PM7Ig"
      }
    },
    {
      "cell_type": "code",
      "source": [
        "conversion_rates = merged_df.groupby('group')['converted'].mean()\n",
        "print(\"Conversion rates by group:\\n\", conversion_rates)"
      ],
      "metadata": {
        "colab": {
          "base_uri": "https://localhost:8080/"
        },
        "id": "ZhzAvf13KvYU",
        "outputId": "c1564108-92ed-46f1-994a-33adc088ebc0"
      },
      "execution_count": 54,
      "outputs": [
        {
          "output_type": "stream",
          "name": "stdout",
          "text": [
            "Conversion rates by group:\n",
            " group\n",
            "control      0.120290\n",
            "treatment    0.118727\n",
            "Name: converted, dtype: float64\n"
          ]
        }
      ]
    },
    {
      "cell_type": "markdown",
      "source": [
        "**4.4 Visualize Conversion Rates**"
      ],
      "metadata": {
        "id": "6P8uemxwNzdg"
      }
    },
    {
      "cell_type": "code",
      "source": [
        "# visualize conversion rates\n",
        "sns.barplot(x='group', y='converted', data=merged_df)\n",
        "plt.title('Conversion Rate by Group')\n",
        "plt.ylabel('Conversion Rate')\n",
        "plt.show()"
      ],
      "metadata": {
        "colab": {
          "base_uri": "https://localhost:8080/",
          "height": 573
        },
        "id": "LUU960NiNATX",
        "outputId": "0620db57-080a-490c-e3b1-975d36d5ff08"
      },
      "execution_count": 55,
      "outputs": [
        {
          "output_type": "display_data",
          "data": {
            "text/plain": [
              "<Figure size 1000x600 with 1 Axes>"
            ],
            "image/png": "[encoded data removed]"
          },
          "metadata": {}
        }
      ]
    },
    {
      "cell_type": "markdown",
      "source": [
        "**4.5 Check Distribution of Countries per Group**"
      ],
      "metadata": {
        "id": "mzdv5k3JN8No"
      }
    },
    {
      "cell_type": "code",
      "source": [
        "# plot the distribution of countries per group\n",
        "country_counts = merged_df.groupby(['group', 'country']).size().unstack(fill_value=0)\n",
        "print(country_counts)\n",
        "\n",
        "country_counts.plot(kind='bar', stacked=True, figsize=(10,6))\n",
        "plt.title('User Distribution by Country and Group')\n",
        "plt.ylabel('Number of Users')\n",
        "plt.show()"
      ],
      "metadata": {
        "colab": {
          "base_uri": "https://localhost:8080/",
          "height": 703
        },
        "id": "FgFDx-A-N4dC",
        "outputId": "d92cedd7-8d9c-49e3-9864-283b017efc19"
      },
      "execution_count": 56,
      "outputs": [
        {
          "output_type": "stream",
          "name": "stdout",
          "text": [
            "country      CA     UK      US\n",
            "group                         \n",
            "control    7138  36100  100988\n",
            "treatment  7256  35861  101197\n"
          ]
        },
        {
          "output_type": "display_data",
          "data": {
            "text/plain": [
              "<Figure size 1000x600 with 1 Axes>"
            ],
            "image/png": "[encoded data removed]"
          },
          "metadata": {}
        }
      ]
    },
    {
      "cell_type": "markdown",
      "source": [
        "### **✅ Step 5: Statistical Testing**\n",
        "\n",
        "This is where we formally evaluate if the observed difference in conversion rates between the treatment and control groups is statistically significant, i.e., unlikely due to random chance."
      ],
      "metadata": {
        "id": "hVb7RNb5PszX"
      }
    },
    {
      "cell_type": "markdown",
      "source": [
        "**🎯 Objective**\n",
        "\n",
        "Determine whether the new landing page (treatment) results in a significant change (increase or decrease) in conversion rate compared to the old page (control)."
      ],
      "metadata": {
        "id": "nlZNCkHiPwrm"
      }
    },
    {
      "cell_type": "markdown",
      "source": [
        "#### **🧪 Test Type**\n",
        "\n",
        "We'll use a two-sample Z-test for proportions, appropriate when:\n",
        "\n",
        "- You’re comparing two independent proportions.\n",
        "\n",
        "- Sample size is large (which we assume here)."
      ],
      "metadata": {
        "id": "3D3oo4eMP083"
      }
    },
    {
      "cell_type": "markdown",
      "source": [
        "**5.1 Extract Counts for the Z-test**"
      ],
      "metadata": {
        "id": "I362313_QAA_"
      }
    },
    {
      "cell_type": "code",
      "source": [
        "# Get counts for each group\n",
        "control_data = merged_df[merged_df['group'] == 'control']\n",
        "treatment_data = merged_df[merged_df['group'] == 'treatment']\n",
        "\n",
        "# Sample sizes\n",
        "n_control = control_data.shape[0]\n",
        "n_treatment = treatment_data.shape[0]\n",
        "\n",
        "# Conversions\n",
        "conversions_control = control_data['converted'].sum()\n",
        "conversions_treatment = treatment_data['converted'].sum()\n",
        "\n",
        "# Conversion rates\n",
        "cr_control = conversions_control / n_control\n",
        "cr_treatment = conversions_treatment / n_treatment\n",
        "\n",
        "print(f\"Control Conversion Rate: {cr_control:.4f}\")\n",
        "print(f\"Treatment Conversion Rate: {cr_treatment:.4f}\")"
      ],
      "metadata": {
        "colab": {
          "base_uri": "https://localhost:8080/"
        },
        "id": "rptOwO-HOAXS",
        "outputId": "a8bb0063-d90f-4146-b1e6-427ac157e609"
      },
      "execution_count": 57,
      "outputs": [
        {
          "output_type": "stream",
          "name": "stdout",
          "text": [
            "Control Conversion Rate: 0.1203\n",
            "Treatment Conversion Rate: 0.1187\n"
          ]
        }
      ]
    },
    {
      "cell_type": "markdown",
      "source": [
        "**5.2 Perform Z-test for Proportions**"
      ],
      "metadata": {
        "id": "Q9TErOHTQG4X"
      }
    },
    {
      "cell_type": "code",
      "source": [
        "from statsmodels.stats.proportion import proportions_ztest\n",
        "\n",
        "# Counts of conversions\n",
        "conversions = [conversions_treatment, conversions_control]\n",
        "\n",
        "# Sample sizes\n",
        "samples = [n_treatment, n_control]\n",
        "\n",
        "# Perform two-tailed z-test\n",
        "z_stat, p_val = proportions_ztest(count=conversions, nobs=samples)\n",
        "\n",
        "print(f\"Z-statistic: {z_stat:.4f}\")\n",
        "print(f\"P-value: {p_val:.4f}\")"
      ],
      "metadata": {
        "colab": {
          "base_uri": "https://localhost:8080/"
        },
        "id": "XaoLvl92QEnn",
        "outputId": "8112a313-2f4f-41cb-cf85-bc7bb8f00d12"
      },
      "execution_count": 58,
      "outputs": [
        {
          "output_type": "stream",
          "name": "stdout",
          "text": [
            "Z-statistic: -1.2942\n",
            "P-value: 0.1956\n"
          ]
        }
      ]
    },
    {
      "cell_type": "markdown",
      "source": [
        "**5.3 Interpret Results**\n",
        "\n",
        "Use a significance level of α = 0.05:"
      ],
      "metadata": {
        "id": "atCBd1ZmQMhG"
      }
    },
    {
      "cell_type": "code",
      "source": [
        "alpha = 0.05\n",
        "\n",
        "if p_val < alpha:\n",
        "    print(\"❗ Result: Statistically Significant — Reject Null Hypothesis\")\n",
        "else:\n",
        "    print(\"✅ Result: Not Statistically Significant — Fail to Reject Null Hypothesis\")"
      ],
      "metadata": {
        "colab": {
          "base_uri": "https://localhost:8080/"
        },
        "id": "hI5sWvLiQKMB",
        "outputId": "cb44ddde-b118-4eeb-b4b1-dfe18324d12c"
      },
      "execution_count": 59,
      "outputs": [
        {
          "output_type": "stream",
          "name": "stdout",
          "text": [
            "✅ Result: Not Statistically Significant — Fail to Reject Null Hypothesis\n"
          ]
        }
      ]
    },
    {
      "cell_type": "markdown",
      "source": [
        "#### **🎯 Interpretation**\n",
        "\n",
        "- The p-value (0.1956) is greater than 0.05, which means:\n",
        "\n",
        "  - We fail to reject the null hypothesis.\n",
        "\n",
        "  - The observed difference in conversion rates (12.03% vs. 11.87%) is not statistically significant.\n",
        "\n",
        "#### **📌 Conclusion (Statistical Perspective)**\n",
        "\n",
        "There is no statistically significant evidence that the new landing page performs differently than the old one.\n",
        "The small observed decrease in conversion could easily be due to chance."
      ],
      "metadata": {
        "id": "hWlGxQG-QjVZ"
      }
    },
    {
      "cell_type": "markdown",
      "source": [
        "### **✅ Step 6: Business Impact Assessment**\n",
        "\n",
        "While the statistical test showed no significant difference, it's still crucial to evaluate whether the magnitude of the difference has a meaningful business impact — even if it's not statistically significant."
      ],
      "metadata": {
        "id": "EtGOxiqhQ2bu"
      }
    },
    {
      "cell_type": "markdown",
      "source": [
        "**🎯 Objective**\n",
        "\n",
        "“Would this observed difference in conversion rate result in a meaningful gain or loss in business outcomes (like revenue), if we implemented the new page?”"
      ],
      "metadata": {
        "id": "NzuuWJixQ6iI"
      }
    },
    {
      "cell_type": "markdown",
      "source": [
        "| Metric          | Control | Treatment | Difference |\n",
        "| --------------- | ------- | --------- | ---------- |\n",
        "| Conversion Rate | 12.03%  | 11.87%    | **-0.16%** |\n",
        "\n",
        "---\n",
        "\n",
        "So, if 100,000 users visited:\n",
        "\n",
        "- Control → ~12,030 would convert\n",
        "\n",
        "- Treatment → ~11,870 would convert\n",
        "  → 160 fewer conversions"
      ],
      "metadata": {
        "id": "Oi3mgBS8Q-1m"
      }
    },
    {
      "cell_type": "markdown",
      "source": [
        "**💰 Assume a Value per Conversion (Hypothetical)**\n",
        "\n",
        "Let’s assume:\n",
        "- Each conversion (signup/purchase) brings in $100 revenue."
      ],
      "metadata": {
        "id": "AGMuzziiRHhH"
      }
    },
    {
      "cell_type": "code",
      "source": [
        "# Revenue impact per conversion\n",
        "value_per_conversion = 100\n",
        "\n",
        "# Drop in conversions per 100,000 users\n",
        "conversion_diff = cr_treatment - cr_control\n",
        "user_count = 100000\n",
        "revenue_impact = conversion_diff * user_count * value_per_conversion\n",
        "\n",
        "print(f\"Estimated revenue impact per 100K users: ${revenue_impact:.2f}\")"
      ],
      "metadata": {
        "colab": {
          "base_uri": "https://localhost:8080/"
        },
        "id": "9aE15ZoCQPn7",
        "outputId": "64fd7bf8-f4dc-4740-c533-42279904f6a6"
      },
      "execution_count": 60,
      "outputs": [
        {
          "output_type": "stream",
          "name": "stdout",
          "text": [
            "Estimated revenue impact per 100K users: $-15631.58\n"
          ]
        }
      ]
    },
    {
      "cell_type": "markdown",
      "source": [
        "#### **💡 Business Impact Summary**\n",
        "\n",
        "Estimated revenue impact (per 100K users):\n",
        "- 🟥 –$15,631.58\n",
        "\n",
        "This means that if the new landing page were rolled out, and 100,000 users visited:\n",
        "\n",
        "- The company would earn $15.6K less in revenue compared to the current (control) page.\n",
        "\n",
        "- This is both a negative and meaningful financial impact."
      ],
      "metadata": {
        "id": "y_CYpgLQRbR3"
      }
    },
    {
      "cell_type": "markdown",
      "source": [
        "## **✅ Step 7: Final Recommendation**\n",
        "\n",
        "### 🎯 Recommendation: **Do Not Implement the New Landing Page (for Now)**\n",
        "\n",
        "---\n",
        "\n",
        "### **📊 Key Findings:**\n",
        "\n",
        "* **No Statistically Significant Difference**\n",
        "\n",
        "  The A/B test results show no meaningful difference in conversion rates between the new page (11.87%) and the current page (12.03%).\n",
        "  *(p-value = 0.1956 > 0.05)*\n",
        "\n",
        "* **Negative Business Impact**\n",
        "  \n",
        "  Rolling out the new page would result in **\\~160 fewer conversions per 100,000 visitors**, translating to an estimated **revenue loss of \\$15,631** for every 100K users (assuming \\$100 per conversion).\n",
        "\n",
        "---\n",
        "\n",
        "### **📌 Conclusion:**\n",
        "\n",
        "While the test did not show a significant difference from a statistical standpoint, the **slight drop in performance** of the new landing page is **not only negative but also financially impactful**.\n",
        "\n",
        "We recommend **continuing with the current page** and **not proceeding with the new version** in its current form.\n",
        "\n",
        "---\n",
        "\n",
        "### **🛠 Suggested Next Steps:**\n",
        "\n",
        "* 📈 **Iterate on the new page design** using insights from user behavior (e.g. click heatmaps, bounce rates).\n",
        "* 🧪 **Run targeted experiments** for specific segments (e.g., by country or device type) where the new page might perform better.\n",
        "* 🔁 **Re-test with a revised variant** after addressing potential usability or content concerns.\n",
        "\n",
        "---\n"
      ],
      "metadata": {
        "id": "CwDqSh-YRtav"
      }
    },
    {
      "cell_type": "code",
      "source": [],
      "metadata": {
        "id": "1HAUaawaRNZm"
      },
      "execution_count": null,
      "outputs": []
    }
  ]
}